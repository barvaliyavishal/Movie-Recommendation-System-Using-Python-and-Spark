{
  "cells": [
    {
      "cell_type": "markdown",
      "source": [
        "### Importing needed Libraries"
      ],
      "metadata": {
        "id": "NSwF0OQW_-4X"
      }
    },
    {
      "cell_type": "code",
      "source": [
        "import pyspark\n",
        "import pandas as pd\n",
        "import re\n",
        "from pyspark.sql import SparkSession"
      ],
      "metadata": {
        "id": "yi3uK8QB96_u"
      },
      "execution_count": 166,
      "outputs": []
    },
    {
      "cell_type": "markdown",
      "source": [
        "###Mounting Google Drive for Accessing Data"
      ],
      "metadata": {
        "id": "woi36FPlAEZW"
      }
    },
    {
      "cell_type": "code",
      "source": [
        "from google.colab import drive\n",
        "drive.mount('/content/drive')"
      ],
      "metadata": {
        "colab": {
          "base_uri": "https://localhost:8080/"
        },
        "id": "9u-7LO4-9PwJ",
        "outputId": "850fff01-bf75-4cef-c708-1aa141476122"
      },
      "execution_count": 167,
      "outputs": [
        {
          "output_type": "stream",
          "name": "stdout",
          "text": [
            "Drive already mounted at /content/drive; to attempt to forcibly remount, call drive.mount(\"/content/drive\", force_remount=True).\n"
          ]
        }
      ]
    },
    {
      "cell_type": "markdown",
      "source": [
        "### Creating Spark Seesion"
      ],
      "metadata": {
        "id": "zhm1Nn63AWl-"
      }
    },
    {
      "cell_type": "code",
      "source": [
        "spark = SparkSession.builder.master(\"local[*]\") \\\n",
        "                    .appName('Movie Recommendation Engine') \\\n",
        "                    .getOrCreate()"
      ],
      "metadata": {
        "id": "iJHAgqF59qTI"
      },
      "execution_count": 168,
      "outputs": []
    },
    {
      "cell_type": "markdown",
      "source": [
        "### Loading Movies DataSet into Spark DataFrame"
      ],
      "metadata": {
        "id": "t_Jmh76PAfgH"
      }
    },
    {
      "cell_type": "code",
      "source": [
        "movies = spark.read. \\\n",
        "      option(\"header\",\"true\"). \\\n",
        "      option(\"inferSchema\",\"true\"). \\\n",
        "      csv('/content/drive/MyDrive/Colab Notebooks/movies.csv')"
      ],
      "metadata": {
        "id": "keUX_Wnh-ROJ"
      },
      "execution_count": 189,
      "outputs": []
    },
    {
      "cell_type": "code",
      "source": [
        "movies.count()"
      ],
      "metadata": {
        "colab": {
          "base_uri": "https://localhost:8080/"
        },
        "id": "zK15525m-7jn",
        "outputId": "6a2f16cf-5de5-4756-de56-05190c8ef52f"
      },
      "execution_count": 190,
      "outputs": [
        {
          "output_type": "execute_result",
          "data": {
            "text/plain": [
              "62423"
            ]
          },
          "metadata": {},
          "execution_count": 190
        }
      ]
    },
    {
      "cell_type": "code",
      "source": [
        "movies.drop_duplicates()"
      ],
      "metadata": {
        "colab": {
          "base_uri": "https://localhost:8080/"
        },
        "id": "41FaHhOfOERx",
        "outputId": "b242cdc3-b9e4-4dec-d015-a468469e3937"
      },
      "execution_count": 191,
      "outputs": [
        {
          "output_type": "execute_result",
          "data": {
            "text/plain": [
              "DataFrame[movieId: int, title: string, genres: string]"
            ]
          },
          "metadata": {},
          "execution_count": 191
        }
      ]
    },
    {
      "cell_type": "markdown",
      "source": [
        "### Cleaning movies titles using spark and regex "
      ],
      "metadata": {
        "id": "teWLDmDpAlFP"
      }
    },
    {
      "cell_type": "code",
      "source": [
        "def clean_title(title):\n",
        "  \"\"\"\n",
        "    This function will clean movie title by removing all special chars from title except space and alphanumeric chars\n",
        "  \"\"\"\n",
        "  return re.sub(\"[^a-zA-Z0-9 ]\",\"\",title)"
      ],
      "metadata": {
        "id": "MDzWttyz_Ufb"
      },
      "execution_count": 192,
      "outputs": []
    },
    {
      "cell_type": "code",
      "source": [
        " # Example \n",
        " print(clean_title(\"Vishal--- ====@#$%barvaliya?\"))"
      ],
      "metadata": {
        "colab": {
          "base_uri": "https://localhost:8080/"
        },
        "id": "BCwz3W_3BSpQ",
        "outputId": "510a28da-c507-45eb-bbb1-a5f784a0faeb"
      },
      "execution_count": 193,
      "outputs": [
        {
          "output_type": "stream",
          "name": "stdout",
          "text": [
            "Vishal barvaliya\n"
          ]
        }
      ]
    },
    {
      "cell_type": "code",
      "source": [
        "from pyspark.sql.functions import col,udf\n",
        "from pyspark.sql.types import StringType"
      ],
      "metadata": {
        "id": "aFODiREWB_hY"
      },
      "execution_count": 194,
      "outputs": []
    },
    {
      "cell_type": "markdown",
      "source": [
        "Before cleaning movie titles lets check some titles with paranthases then we will compare same result after cleaning it"
      ],
      "metadata": {
        "id": "Cts-VyhgCeGA"
      }
    },
    {
      "cell_type": "code",
      "source": [
        "#movies.filter(col('title').contains(')')).show(truncate=False)"
      ],
      "metadata": {
        "id": "FXmWGHxECGSv"
      },
      "execution_count": 195,
      "outputs": []
    },
    {
      "cell_type": "code",
      "source": [
        "clean_titles = udf(clean_title,StringType())"
      ],
      "metadata": {
        "id": "2f4zVX-9C_U4"
      },
      "execution_count": 196,
      "outputs": []
    },
    {
      "cell_type": "code",
      "source": [
        "movies = movies.withColumn(\"title\", clean_titles('title'))"
      ],
      "metadata": {
        "id": "MzB8hbbPBXw0"
      },
      "execution_count": 197,
      "outputs": []
    },
    {
      "cell_type": "markdown",
      "source": [
        "After cleaning movie titles we do not have any record left with paranthases which means data is cleaned perfectly"
      ],
      "metadata": {
        "id": "I4Ng2ELOEEjm"
      }
    },
    {
      "cell_type": "code",
      "source": [
        "#movies.filter(col('title').contains(')')).show(truncate=False)"
      ],
      "metadata": {
        "id": "Du7ag1wqB6Ip"
      },
      "execution_count": 198,
      "outputs": []
    },
    {
      "cell_type": "code",
      "source": [
        "movies = movies.drop_duplicates(subset=['title'])"
      ],
      "metadata": {
        "id": "eoeen5tHECr2"
      },
      "execution_count": 199,
      "outputs": []
    },
    {
      "cell_type": "code",
      "source": [
        "movies_df = movies.toPandas()"
      ],
      "metadata": {
        "id": "MoXbdWNYIQ3Z"
      },
      "execution_count": 203,
      "outputs": []
    },
    {
      "cell_type": "code",
      "source": [
        "movies_df  = movies_df[list(movies_df.columns[~movies_df.columns.duplicated()])]"
      ],
      "metadata": {
        "id": "2huIcADmLWeJ"
      },
      "execution_count": 204,
      "outputs": []
    },
    {
      "cell_type": "markdown",
      "source": [
        "Using Vectorizer on title to create search engine first"
      ],
      "metadata": {
        "id": "1Yrv_u1oI7Sa"
      }
    },
    {
      "cell_type": "code",
      "source": [
        "from sklearn.feature_extraction.text import TfidfVectorizer\n",
        "\n",
        "vectorizer = TfidfVectorizer(ngram_range=(1,2))\n",
        "\n",
        "tfidf = vectorizer.fit_transform(movies_df['title'])"
      ],
      "metadata": {
        "id": "H9QIwoW0Ed2v"
      },
      "execution_count": 205,
      "outputs": []
    },
    {
      "cell_type": "markdown",
      "source": [
        "Creating Search Function"
      ],
      "metadata": {
        "id": "KEnZpBOfJHra"
      }
    },
    {
      "cell_type": "code",
      "source": [
        "import numpy as np\n",
        "from sklearn.metrics.pairwise import cosine_similarity\n"
      ],
      "metadata": {
        "id": "Wz2t-u6lHlSZ"
      },
      "execution_count": 206,
      "outputs": []
    },
    {
      "cell_type": "code",
      "source": [
        "def search(title):\n",
        "  title = clean_title(title)\n",
        "  query_vec = vectorizer.transform([title])\n",
        "  similarity = cosine_similarity(query_vec,tfidf)\n",
        "  indices = np.argpartition(similarity, -5)[-5:]\n",
        "  res = movies_df.iloc[indices[0]][::-1][:5]\n",
        "  return res"
      ],
      "metadata": {
        "id": "FpWAN4JHJSnK"
      },
      "execution_count": 255,
      "outputs": []
    },
    {
      "cell_type": "code",
      "source": [
        "import ipywidgets as w\n",
        "from IPython.display import display\n"
      ],
      "metadata": {
        "id": "Lz2q88dKRG0z"
      },
      "execution_count": 256,
      "outputs": []
    },
    {
      "cell_type": "code",
      "source": [
        "movie_input = w.Text(\n",
        "    description = \"Movie Title:\",\n",
        "    disabled = False\n",
        ")\n",
        "\n",
        "movie_list = w.Output()\n",
        "def on_type(data):\n",
        "  with movie_list:\n",
        "    movie_list.clear_output()\n",
        "    title = data[\"new\"]\n",
        "    if len(title) > 5:\n",
        "      display(search(title))\n",
        "\n",
        "movie_input.observe(on_type,names='value')\n",
        "display(movie_input,movie_list)"
      ],
      "metadata": {
        "colab": {
          "base_uri": "https://localhost:8080/",
          "height": 238,
          "referenced_widgets": [
            "5bcd93892ca64c7f9da87632a7c28d8d",
            "1b3e2a397c494253a898fbe79b0382d3",
            "f483b6d862df4734b251f174c3e928cb",
            "cbbe5261b86c43819fcb760169ec6ef3",
            "edd932d9310a403dbbca2b35928c5f9e"
          ]
        },
        "id": "YU47GKZpSM9Y",
        "outputId": "1eb6bc5f-3a82-4047-a467-178702dca3b4"
      },
      "execution_count": 257,
      "outputs": [
        {
          "output_type": "display_data",
          "data": {
            "text/plain": [
              "Text(value='', description='Movie Title:')"
            ],
            "application/vnd.jupyter.widget-view+json": {
              "version_major": 2,
              "version_minor": 0,
              "model_id": "5bcd93892ca64c7f9da87632a7c28d8d"
            }
          },
          "metadata": {}
        },
        {
          "output_type": "display_data",
          "data": {
            "text/plain": [
              "Output()"
            ],
            "application/vnd.jupyter.widget-view+json": {
              "version_major": 2,
              "version_minor": 0,
              "model_id": "cbbe5261b86c43819fcb760169ec6ef3"
            }
          },
          "metadata": {}
        }
      ]
    },
    {
      "cell_type": "code",
      "source": [
        "ratings = pd.read_csv(\"/content/drive/MyDrive/Colab Notebooks/ratings.csv\")"
      ],
      "metadata": {
        "id": "ATlo7QS0SnSo"
      },
      "execution_count": 254,
      "outputs": []
    },
    {
      "cell_type": "markdown",
      "source": [
        "#Creating Recommendation System"
      ],
      "metadata": {
        "id": "MUdA2Jt7VVXS"
      }
    },
    {
      "cell_type": "code",
      "source": [
        "def find_similar_movies(movieId):\n",
        "  similar_users = ratings[(ratings['movieId'] == movieid) & (ratings['rating'] >= 4) ]['userId'].unique()\n",
        "  similar_user_recs = ratings[(ratings['userId'].isin(similar_users) & (ratings['rating'] > 4))]['movieId']\n",
        "\n",
        "  similar_user_recs = similar_user_recs.value_counts() / len(similar_users)\n",
        "  similar_user_recs = similar_user_recs[similar_user_recs > .10]\n",
        "\n",
        "  all_users = ratings[(ratings['movieId'].isin(similar_user_recs.index)) & (ratings['rating'] > 4)]\n",
        "  all_users_recs = all_users['movieId'].value_counts() / len(all_users['userId'].unique())\n",
        "\n",
        "  rec_percentages = pd.concat([similar_user_recs, all_users_recs],axis=1)\n",
        "  rec_percentages.columns = ['similar','all']\n",
        "  rec_percentages['score'] = rec_percentages['similar'] / rec_percentages['all']\n",
        "  rec_percentages = rec_percentages.sort_values('score',ascending=False)\n",
        "  return rec_percentages.head(10).merge(movies_df, left_index=True, right_on=\"movieId\")[['score','title','genres']]"
      ],
      "metadata": {
        "id": "0VJOBiysVBJc"
      },
      "execution_count": 303,
      "outputs": []
    },
    {
      "cell_type": "code",
      "source": [
        "find_similar_movies(1)"
      ],
      "metadata": {
        "colab": {
          "base_uri": "https://localhost:8080/",
          "height": 363
        },
        "id": "NsK5528YaK6o",
        "outputId": "69027855-3839-4706-9977-fca85692b525"
      },
      "execution_count": 304,
      "outputs": [
        {
          "output_type": "execute_result",
          "data": {
            "text/plain": [
              "            score                                   title  \\\n",
              "11933  158.486182                               Hulk 2003   \n",
              "12576   42.157324                Incredible Hulk The 2008   \n",
              "54098   26.932292                        SpiderMan 3 2007   \n",
              "41781   24.299781                            Hancock 2008   \n",
              "11211   22.377852                            Hellboy 2004   \n",
              "24238   20.650733  Terminator 3 Rise of the Machines 2003   \n",
              "61915   20.111741             XMen Origins Wolverine 2009   \n",
              "44727   18.181971                          King Kong 2005   \n",
              "36298   17.868540          Chronicles of Riddick The 2004   \n",
              "28620   17.532425                    Transporter The 2002   \n",
              "\n",
              "                                        genres  \n",
              "11933                  Action|Adventure|Sci-Fi  \n",
              "12576                            Action|Sci-Fi  \n",
              "54098    Action|Adventure|Sci-Fi|Thriller|IMAX  \n",
              "41781    Action|Adventure|Comedy|Crime|Fantasy  \n",
              "11211          Action|Adventure|Fantasy|Horror  \n",
              "24238                  Action|Adventure|Sci-Fi  \n",
              "61915                   Action|Sci-Fi|Thriller  \n",
              "44727  Action|Adventure|Drama|Fantasy|Thriller  \n",
              "36298                   Action|Sci-Fi|Thriller  \n",
              "28620                             Action|Crime  "
            ],
            "text/html": [
              "\n",
              "  <div id=\"df-897595f3-bd10-4584-9a01-4fe597e99f6e\">\n",
              "    <div class=\"colab-df-container\">\n",
              "      <div>\n",
              "<style scoped>\n",
              "    .dataframe tbody tr th:only-of-type {\n",
              "        vertical-align: middle;\n",
              "    }\n",
              "\n",
              "    .dataframe tbody tr th {\n",
              "        vertical-align: top;\n",
              "    }\n",
              "\n",
              "    .dataframe thead th {\n",
              "        text-align: right;\n",
              "    }\n",
              "</style>\n",
              "<table border=\"1\" class=\"dataframe\">\n",
              "  <thead>\n",
              "    <tr style=\"text-align: right;\">\n",
              "      <th></th>\n",
              "      <th>score</th>\n",
              "      <th>title</th>\n",
              "      <th>genres</th>\n",
              "    </tr>\n",
              "  </thead>\n",
              "  <tbody>\n",
              "    <tr>\n",
              "      <th>11933</th>\n",
              "      <td>158.486182</td>\n",
              "      <td>Hulk 2003</td>\n",
              "      <td>Action|Adventure|Sci-Fi</td>\n",
              "    </tr>\n",
              "    <tr>\n",
              "      <th>12576</th>\n",
              "      <td>42.157324</td>\n",
              "      <td>Incredible Hulk The 2008</td>\n",
              "      <td>Action|Sci-Fi</td>\n",
              "    </tr>\n",
              "    <tr>\n",
              "      <th>54098</th>\n",
              "      <td>26.932292</td>\n",
              "      <td>SpiderMan 3 2007</td>\n",
              "      <td>Action|Adventure|Sci-Fi|Thriller|IMAX</td>\n",
              "    </tr>\n",
              "    <tr>\n",
              "      <th>41781</th>\n",
              "      <td>24.299781</td>\n",
              "      <td>Hancock 2008</td>\n",
              "      <td>Action|Adventure|Comedy|Crime|Fantasy</td>\n",
              "    </tr>\n",
              "    <tr>\n",
              "      <th>11211</th>\n",
              "      <td>22.377852</td>\n",
              "      <td>Hellboy 2004</td>\n",
              "      <td>Action|Adventure|Fantasy|Horror</td>\n",
              "    </tr>\n",
              "    <tr>\n",
              "      <th>24238</th>\n",
              "      <td>20.650733</td>\n",
              "      <td>Terminator 3 Rise of the Machines 2003</td>\n",
              "      <td>Action|Adventure|Sci-Fi</td>\n",
              "    </tr>\n",
              "    <tr>\n",
              "      <th>61915</th>\n",
              "      <td>20.111741</td>\n",
              "      <td>XMen Origins Wolverine 2009</td>\n",
              "      <td>Action|Sci-Fi|Thriller</td>\n",
              "    </tr>\n",
              "    <tr>\n",
              "      <th>44727</th>\n",
              "      <td>18.181971</td>\n",
              "      <td>King Kong 2005</td>\n",
              "      <td>Action|Adventure|Drama|Fantasy|Thriller</td>\n",
              "    </tr>\n",
              "    <tr>\n",
              "      <th>36298</th>\n",
              "      <td>17.868540</td>\n",
              "      <td>Chronicles of Riddick The 2004</td>\n",
              "      <td>Action|Sci-Fi|Thriller</td>\n",
              "    </tr>\n",
              "    <tr>\n",
              "      <th>28620</th>\n",
              "      <td>17.532425</td>\n",
              "      <td>Transporter The 2002</td>\n",
              "      <td>Action|Crime</td>\n",
              "    </tr>\n",
              "  </tbody>\n",
              "</table>\n",
              "</div>\n",
              "      <button class=\"colab-df-convert\" onclick=\"convertToInteractive('df-897595f3-bd10-4584-9a01-4fe597e99f6e')\"\n",
              "              title=\"Convert this dataframe to an interactive table.\"\n",
              "              style=\"display:none;\">\n",
              "        \n",
              "  <svg xmlns=\"http://www.w3.org/2000/svg\" height=\"24px\"viewBox=\"0 0 24 24\"\n",
              "       width=\"24px\">\n",
              "    <path d=\"M0 0h24v24H0V0z\" fill=\"none\"/>\n",
              "    <path d=\"M18.56 5.44l.94 2.06.94-2.06 2.06-.94-2.06-.94-.94-2.06-.94 2.06-2.06.94zm-11 1L8.5 8.5l.94-2.06 2.06-.94-2.06-.94L8.5 2.5l-.94 2.06-2.06.94zm10 10l.94 2.06.94-2.06 2.06-.94-2.06-.94-.94-2.06-.94 2.06-2.06.94z\"/><path d=\"M17.41 7.96l-1.37-1.37c-.4-.4-.92-.59-1.43-.59-.52 0-1.04.2-1.43.59L10.3 9.45l-7.72 7.72c-.78.78-.78 2.05 0 2.83L4 21.41c.39.39.9.59 1.41.59.51 0 1.02-.2 1.41-.59l7.78-7.78 2.81-2.81c.8-.78.8-2.07 0-2.86zM5.41 20L4 18.59l7.72-7.72 1.47 1.35L5.41 20z\"/>\n",
              "  </svg>\n",
              "      </button>\n",
              "      \n",
              "  <style>\n",
              "    .colab-df-container {\n",
              "      display:flex;\n",
              "      flex-wrap:wrap;\n",
              "      gap: 12px;\n",
              "    }\n",
              "\n",
              "    .colab-df-convert {\n",
              "      background-color: #E8F0FE;\n",
              "      border: none;\n",
              "      border-radius: 50%;\n",
              "      cursor: pointer;\n",
              "      display: none;\n",
              "      fill: #1967D2;\n",
              "      height: 32px;\n",
              "      padding: 0 0 0 0;\n",
              "      width: 32px;\n",
              "    }\n",
              "\n",
              "    .colab-df-convert:hover {\n",
              "      background-color: #E2EBFA;\n",
              "      box-shadow: 0px 1px 2px rgba(60, 64, 67, 0.3), 0px 1px 3px 1px rgba(60, 64, 67, 0.15);\n",
              "      fill: #174EA6;\n",
              "    }\n",
              "\n",
              "    [theme=dark] .colab-df-convert {\n",
              "      background-color: #3B4455;\n",
              "      fill: #D2E3FC;\n",
              "    }\n",
              "\n",
              "    [theme=dark] .colab-df-convert:hover {\n",
              "      background-color: #434B5C;\n",
              "      box-shadow: 0px 1px 3px 1px rgba(0, 0, 0, 0.15);\n",
              "      filter: drop-shadow(0px 1px 2px rgba(0, 0, 0, 0.3));\n",
              "      fill: #FFFFFF;\n",
              "    }\n",
              "  </style>\n",
              "\n",
              "      <script>\n",
              "        const buttonEl =\n",
              "          document.querySelector('#df-897595f3-bd10-4584-9a01-4fe597e99f6e button.colab-df-convert');\n",
              "        buttonEl.style.display =\n",
              "          google.colab.kernel.accessAllowed ? 'block' : 'none';\n",
              "\n",
              "        async function convertToInteractive(key) {\n",
              "          const element = document.querySelector('#df-897595f3-bd10-4584-9a01-4fe597e99f6e');\n",
              "          const dataTable =\n",
              "            await google.colab.kernel.invokeFunction('convertToInteractive',\n",
              "                                                     [key], {});\n",
              "          if (!dataTable) return;\n",
              "\n",
              "          const docLinkHtml = 'Like what you see? Visit the ' +\n",
              "            '<a target=\"_blank\" href=https://colab.research.google.com/notebooks/data_table.ipynb>data table notebook</a>'\n",
              "            + ' to learn more about interactive tables.';\n",
              "          element.innerHTML = '';\n",
              "          dataTable['output_type'] = 'display_data';\n",
              "          await google.colab.output.renderOutput(dataTable, element);\n",
              "          const docLink = document.createElement('div');\n",
              "          docLink.innerHTML = docLinkHtml;\n",
              "          element.appendChild(docLink);\n",
              "        }\n",
              "      </script>\n",
              "    </div>\n",
              "  </div>\n",
              "  "
            ]
          },
          "metadata": {},
          "execution_count": 304
        }
      ]
    },
    {
      "cell_type": "code",
      "source": [
        "movie_input_name = w.Text(\n",
        "    Description = \"Movie title\",\n",
        "    disabled = False\n",
        ")\n",
        "recommendation_list = w.Output()\n",
        "def on_type(data):\n",
        "  recommendation_list.clear_output()\n",
        "  title = data['new']\n",
        "  if len(title) > 5:\n",
        "    res = search(title) \n",
        "    movie_id = res.iloc[0][\"movieId\"]\n",
        "    display( find_similar_movies(movie_id))\n",
        "\n",
        "movie_input_name.observe(on_type,names='value') \n",
        "display(movie_input_name, recommendation_list)\n"
      ],
      "metadata": {
        "colab": {
          "base_uri": "https://localhost:8080/",
          "height": 1000,
          "referenced_widgets": [
            "3cbd3c45e7684a9ba35ef340df96f932",
            "741dd50bf0be4e48981cb3c47767fe27",
            "8665d4779dd7411b80e558f79d13773e",
            "7046082f59884788bc4b5137304b84a7",
            "c46f75537848454a8f989d32f6b2827d"
          ]
        },
        "id": "WUZTuUxlaX56",
        "outputId": "12cd0216-f669-4ab1-e9f7-423ae7fce51d"
      },
      "execution_count": 306,
      "outputs": [
        {
          "output_type": "display_data",
          "data": {
            "text/plain": [
              "Text(value='')"
            ],
            "application/vnd.jupyter.widget-view+json": {
              "version_major": 2,
              "version_minor": 0,
              "model_id": "3cbd3c45e7684a9ba35ef340df96f932"
            }
          },
          "metadata": {}
        },
        {
          "output_type": "display_data",
          "data": {
            "text/plain": [
              "Output()"
            ],
            "application/vnd.jupyter.widget-view+json": {
              "version_major": 2,
              "version_minor": 0,
              "model_id": "7046082f59884788bc4b5137304b84a7"
            }
          },
          "metadata": {}
        },
        {
          "output_type": "display_data",
          "data": {
            "text/plain": [
              "            score                                   title  \\\n",
              "11933  158.486182                               Hulk 2003   \n",
              "12576   42.157324                Incredible Hulk The 2008   \n",
              "54098   26.932292                        SpiderMan 3 2007   \n",
              "41781   24.299781                            Hancock 2008   \n",
              "11211   22.377852                            Hellboy 2004   \n",
              "24238   20.650733  Terminator 3 Rise of the Machines 2003   \n",
              "61915   20.111741             XMen Origins Wolverine 2009   \n",
              "44727   18.181971                          King Kong 2005   \n",
              "36298   17.868540          Chronicles of Riddick The 2004   \n",
              "28620   17.532425                    Transporter The 2002   \n",
              "\n",
              "                                        genres  \n",
              "11933                  Action|Adventure|Sci-Fi  \n",
              "12576                            Action|Sci-Fi  \n",
              "54098    Action|Adventure|Sci-Fi|Thriller|IMAX  \n",
              "41781    Action|Adventure|Comedy|Crime|Fantasy  \n",
              "11211          Action|Adventure|Fantasy|Horror  \n",
              "24238                  Action|Adventure|Sci-Fi  \n",
              "61915                   Action|Sci-Fi|Thriller  \n",
              "44727  Action|Adventure|Drama|Fantasy|Thriller  \n",
              "36298                   Action|Sci-Fi|Thriller  \n",
              "28620                             Action|Crime  "
            ],
            "text/html": [
              "\n",
              "  <div id=\"df-0e3a2171-52c5-4f83-886c-513fb3bdc29f\">\n",
              "    <div class=\"colab-df-container\">\n",
              "      <div>\n",
              "<style scoped>\n",
              "    .dataframe tbody tr th:only-of-type {\n",
              "        vertical-align: middle;\n",
              "    }\n",
              "\n",
              "    .dataframe tbody tr th {\n",
              "        vertical-align: top;\n",
              "    }\n",
              "\n",
              "    .dataframe thead th {\n",
              "        text-align: right;\n",
              "    }\n",
              "</style>\n",
              "<table border=\"1\" class=\"dataframe\">\n",
              "  <thead>\n",
              "    <tr style=\"text-align: right;\">\n",
              "      <th></th>\n",
              "      <th>score</th>\n",
              "      <th>title</th>\n",
              "      <th>genres</th>\n",
              "    </tr>\n",
              "  </thead>\n",
              "  <tbody>\n",
              "    <tr>\n",
              "      <th>11933</th>\n",
              "      <td>158.486182</td>\n",
              "      <td>Hulk 2003</td>\n",
              "      <td>Action|Adventure|Sci-Fi</td>\n",
              "    </tr>\n",
              "    <tr>\n",
              "      <th>12576</th>\n",
              "      <td>42.157324</td>\n",
              "      <td>Incredible Hulk The 2008</td>\n",
              "      <td>Action|Sci-Fi</td>\n",
              "    </tr>\n",
              "    <tr>\n",
              "      <th>54098</th>\n",
              "      <td>26.932292</td>\n",
              "      <td>SpiderMan 3 2007</td>\n",
              "      <td>Action|Adventure|Sci-Fi|Thriller|IMAX</td>\n",
              "    </tr>\n",
              "    <tr>\n",
              "      <th>41781</th>\n",
              "      <td>24.299781</td>\n",
              "      <td>Hancock 2008</td>\n",
              "      <td>Action|Adventure|Comedy|Crime|Fantasy</td>\n",
              "    </tr>\n",
              "    <tr>\n",
              "      <th>11211</th>\n",
              "      <td>22.377852</td>\n",
              "      <td>Hellboy 2004</td>\n",
              "      <td>Action|Adventure|Fantasy|Horror</td>\n",
              "    </tr>\n",
              "    <tr>\n",
              "      <th>24238</th>\n",
              "      <td>20.650733</td>\n",
              "      <td>Terminator 3 Rise of the Machines 2003</td>\n",
              "      <td>Action|Adventure|Sci-Fi</td>\n",
              "    </tr>\n",
              "    <tr>\n",
              "      <th>61915</th>\n",
              "      <td>20.111741</td>\n",
              "      <td>XMen Origins Wolverine 2009</td>\n",
              "      <td>Action|Sci-Fi|Thriller</td>\n",
              "    </tr>\n",
              "    <tr>\n",
              "      <th>44727</th>\n",
              "      <td>18.181971</td>\n",
              "      <td>King Kong 2005</td>\n",
              "      <td>Action|Adventure|Drama|Fantasy|Thriller</td>\n",
              "    </tr>\n",
              "    <tr>\n",
              "      <th>36298</th>\n",
              "      <td>17.868540</td>\n",
              "      <td>Chronicles of Riddick The 2004</td>\n",
              "      <td>Action|Sci-Fi|Thriller</td>\n",
              "    </tr>\n",
              "    <tr>\n",
              "      <th>28620</th>\n",
              "      <td>17.532425</td>\n",
              "      <td>Transporter The 2002</td>\n",
              "      <td>Action|Crime</td>\n",
              "    </tr>\n",
              "  </tbody>\n",
              "</table>\n",
              "</div>\n",
              "      <button class=\"colab-df-convert\" onclick=\"convertToInteractive('df-0e3a2171-52c5-4f83-886c-513fb3bdc29f')\"\n",
              "              title=\"Convert this dataframe to an interactive table.\"\n",
              "              style=\"display:none;\">\n",
              "        \n",
              "  <svg xmlns=\"http://www.w3.org/2000/svg\" height=\"24px\"viewBox=\"0 0 24 24\"\n",
              "       width=\"24px\">\n",
              "    <path d=\"M0 0h24v24H0V0z\" fill=\"none\"/>\n",
              "    <path d=\"M18.56 5.44l.94 2.06.94-2.06 2.06-.94-2.06-.94-.94-2.06-.94 2.06-2.06.94zm-11 1L8.5 8.5l.94-2.06 2.06-.94-2.06-.94L8.5 2.5l-.94 2.06-2.06.94zm10 10l.94 2.06.94-2.06 2.06-.94-2.06-.94-.94-2.06-.94 2.06-2.06.94z\"/><path d=\"M17.41 7.96l-1.37-1.37c-.4-.4-.92-.59-1.43-.59-.52 0-1.04.2-1.43.59L10.3 9.45l-7.72 7.72c-.78.78-.78 2.05 0 2.83L4 21.41c.39.39.9.59 1.41.59.51 0 1.02-.2 1.41-.59l7.78-7.78 2.81-2.81c.8-.78.8-2.07 0-2.86zM5.41 20L4 18.59l7.72-7.72 1.47 1.35L5.41 20z\"/>\n",
              "  </svg>\n",
              "      </button>\n",
              "      \n",
              "  <style>\n",
              "    .colab-df-container {\n",
              "      display:flex;\n",
              "      flex-wrap:wrap;\n",
              "      gap: 12px;\n",
              "    }\n",
              "\n",
              "    .colab-df-convert {\n",
              "      background-color: #E8F0FE;\n",
              "      border: none;\n",
              "      border-radius: 50%;\n",
              "      cursor: pointer;\n",
              "      display: none;\n",
              "      fill: #1967D2;\n",
              "      height: 32px;\n",
              "      padding: 0 0 0 0;\n",
              "      width: 32px;\n",
              "    }\n",
              "\n",
              "    .colab-df-convert:hover {\n",
              "      background-color: #E2EBFA;\n",
              "      box-shadow: 0px 1px 2px rgba(60, 64, 67, 0.3), 0px 1px 3px 1px rgba(60, 64, 67, 0.15);\n",
              "      fill: #174EA6;\n",
              "    }\n",
              "\n",
              "    [theme=dark] .colab-df-convert {\n",
              "      background-color: #3B4455;\n",
              "      fill: #D2E3FC;\n",
              "    }\n",
              "\n",
              "    [theme=dark] .colab-df-convert:hover {\n",
              "      background-color: #434B5C;\n",
              "      box-shadow: 0px 1px 3px 1px rgba(0, 0, 0, 0.15);\n",
              "      filter: drop-shadow(0px 1px 2px rgba(0, 0, 0, 0.3));\n",
              "      fill: #FFFFFF;\n",
              "    }\n",
              "  </style>\n",
              "\n",
              "      <script>\n",
              "        const buttonEl =\n",
              "          document.querySelector('#df-0e3a2171-52c5-4f83-886c-513fb3bdc29f button.colab-df-convert');\n",
              "        buttonEl.style.display =\n",
              "          google.colab.kernel.accessAllowed ? 'block' : 'none';\n",
              "\n",
              "        async function convertToInteractive(key) {\n",
              "          const element = document.querySelector('#df-0e3a2171-52c5-4f83-886c-513fb3bdc29f');\n",
              "          const dataTable =\n",
              "            await google.colab.kernel.invokeFunction('convertToInteractive',\n",
              "                                                     [key], {});\n",
              "          if (!dataTable) return;\n",
              "\n",
              "          const docLinkHtml = 'Like what you see? Visit the ' +\n",
              "            '<a target=\"_blank\" href=https://colab.research.google.com/notebooks/data_table.ipynb>data table notebook</a>'\n",
              "            + ' to learn more about interactive tables.';\n",
              "          element.innerHTML = '';\n",
              "          dataTable['output_type'] = 'display_data';\n",
              "          await google.colab.output.renderOutput(dataTable, element);\n",
              "          const docLink = document.createElement('div');\n",
              "          docLink.innerHTML = docLinkHtml;\n",
              "          element.appendChild(docLink);\n",
              "        }\n",
              "      </script>\n",
              "    </div>\n",
              "  </div>\n",
              "  "
            ]
          },
          "metadata": {}
        },
        {
          "output_type": "display_data",
          "data": {
            "text/plain": [
              "            score                                   title  \\\n",
              "11933  158.486182                               Hulk 2003   \n",
              "12576   42.157324                Incredible Hulk The 2008   \n",
              "54098   26.932292                        SpiderMan 3 2007   \n",
              "41781   24.299781                            Hancock 2008   \n",
              "11211   22.377852                            Hellboy 2004   \n",
              "24238   20.650733  Terminator 3 Rise of the Machines 2003   \n",
              "61915   20.111741             XMen Origins Wolverine 2009   \n",
              "44727   18.181971                          King Kong 2005   \n",
              "36298   17.868540          Chronicles of Riddick The 2004   \n",
              "28620   17.532425                    Transporter The 2002   \n",
              "\n",
              "                                        genres  \n",
              "11933                  Action|Adventure|Sci-Fi  \n",
              "12576                            Action|Sci-Fi  \n",
              "54098    Action|Adventure|Sci-Fi|Thriller|IMAX  \n",
              "41781    Action|Adventure|Comedy|Crime|Fantasy  \n",
              "11211          Action|Adventure|Fantasy|Horror  \n",
              "24238                  Action|Adventure|Sci-Fi  \n",
              "61915                   Action|Sci-Fi|Thriller  \n",
              "44727  Action|Adventure|Drama|Fantasy|Thriller  \n",
              "36298                   Action|Sci-Fi|Thriller  \n",
              "28620                             Action|Crime  "
            ],
            "text/html": [
              "\n",
              "  <div id=\"df-9e67e0a5-631f-46f6-ac24-4f2d82315d81\">\n",
              "    <div class=\"colab-df-container\">\n",
              "      <div>\n",
              "<style scoped>\n",
              "    .dataframe tbody tr th:only-of-type {\n",
              "        vertical-align: middle;\n",
              "    }\n",
              "\n",
              "    .dataframe tbody tr th {\n",
              "        vertical-align: top;\n",
              "    }\n",
              "\n",
              "    .dataframe thead th {\n",
              "        text-align: right;\n",
              "    }\n",
              "</style>\n",
              "<table border=\"1\" class=\"dataframe\">\n",
              "  <thead>\n",
              "    <tr style=\"text-align: right;\">\n",
              "      <th></th>\n",
              "      <th>score</th>\n",
              "      <th>title</th>\n",
              "      <th>genres</th>\n",
              "    </tr>\n",
              "  </thead>\n",
              "  <tbody>\n",
              "    <tr>\n",
              "      <th>11933</th>\n",
              "      <td>158.486182</td>\n",
              "      <td>Hulk 2003</td>\n",
              "      <td>Action|Adventure|Sci-Fi</td>\n",
              "    </tr>\n",
              "    <tr>\n",
              "      <th>12576</th>\n",
              "      <td>42.157324</td>\n",
              "      <td>Incredible Hulk The 2008</td>\n",
              "      <td>Action|Sci-Fi</td>\n",
              "    </tr>\n",
              "    <tr>\n",
              "      <th>54098</th>\n",
              "      <td>26.932292</td>\n",
              "      <td>SpiderMan 3 2007</td>\n",
              "      <td>Action|Adventure|Sci-Fi|Thriller|IMAX</td>\n",
              "    </tr>\n",
              "    <tr>\n",
              "      <th>41781</th>\n",
              "      <td>24.299781</td>\n",
              "      <td>Hancock 2008</td>\n",
              "      <td>Action|Adventure|Comedy|Crime|Fantasy</td>\n",
              "    </tr>\n",
              "    <tr>\n",
              "      <th>11211</th>\n",
              "      <td>22.377852</td>\n",
              "      <td>Hellboy 2004</td>\n",
              "      <td>Action|Adventure|Fantasy|Horror</td>\n",
              "    </tr>\n",
              "    <tr>\n",
              "      <th>24238</th>\n",
              "      <td>20.650733</td>\n",
              "      <td>Terminator 3 Rise of the Machines 2003</td>\n",
              "      <td>Action|Adventure|Sci-Fi</td>\n",
              "    </tr>\n",
              "    <tr>\n",
              "      <th>61915</th>\n",
              "      <td>20.111741</td>\n",
              "      <td>XMen Origins Wolverine 2009</td>\n",
              "      <td>Action|Sci-Fi|Thriller</td>\n",
              "    </tr>\n",
              "    <tr>\n",
              "      <th>44727</th>\n",
              "      <td>18.181971</td>\n",
              "      <td>King Kong 2005</td>\n",
              "      <td>Action|Adventure|Drama|Fantasy|Thriller</td>\n",
              "    </tr>\n",
              "    <tr>\n",
              "      <th>36298</th>\n",
              "      <td>17.868540</td>\n",
              "      <td>Chronicles of Riddick The 2004</td>\n",
              "      <td>Action|Sci-Fi|Thriller</td>\n",
              "    </tr>\n",
              "    <tr>\n",
              "      <th>28620</th>\n",
              "      <td>17.532425</td>\n",
              "      <td>Transporter The 2002</td>\n",
              "      <td>Action|Crime</td>\n",
              "    </tr>\n",
              "  </tbody>\n",
              "</table>\n",
              "</div>\n",
              "      <button class=\"colab-df-convert\" onclick=\"convertToInteractive('df-9e67e0a5-631f-46f6-ac24-4f2d82315d81')\"\n",
              "              title=\"Convert this dataframe to an interactive table.\"\n",
              "              style=\"display:none;\">\n",
              "        \n",
              "  <svg xmlns=\"http://www.w3.org/2000/svg\" height=\"24px\"viewBox=\"0 0 24 24\"\n",
              "       width=\"24px\">\n",
              "    <path d=\"M0 0h24v24H0V0z\" fill=\"none\"/>\n",
              "    <path d=\"M18.56 5.44l.94 2.06.94-2.06 2.06-.94-2.06-.94-.94-2.06-.94 2.06-2.06.94zm-11 1L8.5 8.5l.94-2.06 2.06-.94-2.06-.94L8.5 2.5l-.94 2.06-2.06.94zm10 10l.94 2.06.94-2.06 2.06-.94-2.06-.94-.94-2.06-.94 2.06-2.06.94z\"/><path d=\"M17.41 7.96l-1.37-1.37c-.4-.4-.92-.59-1.43-.59-.52 0-1.04.2-1.43.59L10.3 9.45l-7.72 7.72c-.78.78-.78 2.05 0 2.83L4 21.41c.39.39.9.59 1.41.59.51 0 1.02-.2 1.41-.59l7.78-7.78 2.81-2.81c.8-.78.8-2.07 0-2.86zM5.41 20L4 18.59l7.72-7.72 1.47 1.35L5.41 20z\"/>\n",
              "  </svg>\n",
              "      </button>\n",
              "      \n",
              "  <style>\n",
              "    .colab-df-container {\n",
              "      display:flex;\n",
              "      flex-wrap:wrap;\n",
              "      gap: 12px;\n",
              "    }\n",
              "\n",
              "    .colab-df-convert {\n",
              "      background-color: #E8F0FE;\n",
              "      border: none;\n",
              "      border-radius: 50%;\n",
              "      cursor: pointer;\n",
              "      display: none;\n",
              "      fill: #1967D2;\n",
              "      height: 32px;\n",
              "      padding: 0 0 0 0;\n",
              "      width: 32px;\n",
              "    }\n",
              "\n",
              "    .colab-df-convert:hover {\n",
              "      background-color: #E2EBFA;\n",
              "      box-shadow: 0px 1px 2px rgba(60, 64, 67, 0.3), 0px 1px 3px 1px rgba(60, 64, 67, 0.15);\n",
              "      fill: #174EA6;\n",
              "    }\n",
              "\n",
              "    [theme=dark] .colab-df-convert {\n",
              "      background-color: #3B4455;\n",
              "      fill: #D2E3FC;\n",
              "    }\n",
              "\n",
              "    [theme=dark] .colab-df-convert:hover {\n",
              "      background-color: #434B5C;\n",
              "      box-shadow: 0px 1px 3px 1px rgba(0, 0, 0, 0.15);\n",
              "      filter: drop-shadow(0px 1px 2px rgba(0, 0, 0, 0.3));\n",
              "      fill: #FFFFFF;\n",
              "    }\n",
              "  </style>\n",
              "\n",
              "      <script>\n",
              "        const buttonEl =\n",
              "          document.querySelector('#df-9e67e0a5-631f-46f6-ac24-4f2d82315d81 button.colab-df-convert');\n",
              "        buttonEl.style.display =\n",
              "          google.colab.kernel.accessAllowed ? 'block' : 'none';\n",
              "\n",
              "        async function convertToInteractive(key) {\n",
              "          const element = document.querySelector('#df-9e67e0a5-631f-46f6-ac24-4f2d82315d81');\n",
              "          const dataTable =\n",
              "            await google.colab.kernel.invokeFunction('convertToInteractive',\n",
              "                                                     [key], {});\n",
              "          if (!dataTable) return;\n",
              "\n",
              "          const docLinkHtml = 'Like what you see? Visit the ' +\n",
              "            '<a target=\"_blank\" href=https://colab.research.google.com/notebooks/data_table.ipynb>data table notebook</a>'\n",
              "            + ' to learn more about interactive tables.';\n",
              "          element.innerHTML = '';\n",
              "          dataTable['output_type'] = 'display_data';\n",
              "          await google.colab.output.renderOutput(dataTable, element);\n",
              "          const docLink = document.createElement('div');\n",
              "          docLink.innerHTML = docLinkHtml;\n",
              "          element.appendChild(docLink);\n",
              "        }\n",
              "      </script>\n",
              "    </div>\n",
              "  </div>\n",
              "  "
            ]
          },
          "metadata": {}
        },
        {
          "output_type": "display_data",
          "data": {
            "text/plain": [
              "            score                                   title  \\\n",
              "11933  158.486182                               Hulk 2003   \n",
              "12576   42.157324                Incredible Hulk The 2008   \n",
              "54098   26.932292                        SpiderMan 3 2007   \n",
              "41781   24.299781                            Hancock 2008   \n",
              "11211   22.377852                            Hellboy 2004   \n",
              "24238   20.650733  Terminator 3 Rise of the Machines 2003   \n",
              "61915   20.111741             XMen Origins Wolverine 2009   \n",
              "44727   18.181971                          King Kong 2005   \n",
              "36298   17.868540          Chronicles of Riddick The 2004   \n",
              "28620   17.532425                    Transporter The 2002   \n",
              "\n",
              "                                        genres  \n",
              "11933                  Action|Adventure|Sci-Fi  \n",
              "12576                            Action|Sci-Fi  \n",
              "54098    Action|Adventure|Sci-Fi|Thriller|IMAX  \n",
              "41781    Action|Adventure|Comedy|Crime|Fantasy  \n",
              "11211          Action|Adventure|Fantasy|Horror  \n",
              "24238                  Action|Adventure|Sci-Fi  \n",
              "61915                   Action|Sci-Fi|Thriller  \n",
              "44727  Action|Adventure|Drama|Fantasy|Thriller  \n",
              "36298                   Action|Sci-Fi|Thriller  \n",
              "28620                             Action|Crime  "
            ],
            "text/html": [
              "\n",
              "  <div id=\"df-b127d29c-221a-465f-970a-ec1dab95e62c\">\n",
              "    <div class=\"colab-df-container\">\n",
              "      <div>\n",
              "<style scoped>\n",
              "    .dataframe tbody tr th:only-of-type {\n",
              "        vertical-align: middle;\n",
              "    }\n",
              "\n",
              "    .dataframe tbody tr th {\n",
              "        vertical-align: top;\n",
              "    }\n",
              "\n",
              "    .dataframe thead th {\n",
              "        text-align: right;\n",
              "    }\n",
              "</style>\n",
              "<table border=\"1\" class=\"dataframe\">\n",
              "  <thead>\n",
              "    <tr style=\"text-align: right;\">\n",
              "      <th></th>\n",
              "      <th>score</th>\n",
              "      <th>title</th>\n",
              "      <th>genres</th>\n",
              "    </tr>\n",
              "  </thead>\n",
              "  <tbody>\n",
              "    <tr>\n",
              "      <th>11933</th>\n",
              "      <td>158.486182</td>\n",
              "      <td>Hulk 2003</td>\n",
              "      <td>Action|Adventure|Sci-Fi</td>\n",
              "    </tr>\n",
              "    <tr>\n",
              "      <th>12576</th>\n",
              "      <td>42.157324</td>\n",
              "      <td>Incredible Hulk The 2008</td>\n",
              "      <td>Action|Sci-Fi</td>\n",
              "    </tr>\n",
              "    <tr>\n",
              "      <th>54098</th>\n",
              "      <td>26.932292</td>\n",
              "      <td>SpiderMan 3 2007</td>\n",
              "      <td>Action|Adventure|Sci-Fi|Thriller|IMAX</td>\n",
              "    </tr>\n",
              "    <tr>\n",
              "      <th>41781</th>\n",
              "      <td>24.299781</td>\n",
              "      <td>Hancock 2008</td>\n",
              "      <td>Action|Adventure|Comedy|Crime|Fantasy</td>\n",
              "    </tr>\n",
              "    <tr>\n",
              "      <th>11211</th>\n",
              "      <td>22.377852</td>\n",
              "      <td>Hellboy 2004</td>\n",
              "      <td>Action|Adventure|Fantasy|Horror</td>\n",
              "    </tr>\n",
              "    <tr>\n",
              "      <th>24238</th>\n",
              "      <td>20.650733</td>\n",
              "      <td>Terminator 3 Rise of the Machines 2003</td>\n",
              "      <td>Action|Adventure|Sci-Fi</td>\n",
              "    </tr>\n",
              "    <tr>\n",
              "      <th>61915</th>\n",
              "      <td>20.111741</td>\n",
              "      <td>XMen Origins Wolverine 2009</td>\n",
              "      <td>Action|Sci-Fi|Thriller</td>\n",
              "    </tr>\n",
              "    <tr>\n",
              "      <th>44727</th>\n",
              "      <td>18.181971</td>\n",
              "      <td>King Kong 2005</td>\n",
              "      <td>Action|Adventure|Drama|Fantasy|Thriller</td>\n",
              "    </tr>\n",
              "    <tr>\n",
              "      <th>36298</th>\n",
              "      <td>17.868540</td>\n",
              "      <td>Chronicles of Riddick The 2004</td>\n",
              "      <td>Action|Sci-Fi|Thriller</td>\n",
              "    </tr>\n",
              "    <tr>\n",
              "      <th>28620</th>\n",
              "      <td>17.532425</td>\n",
              "      <td>Transporter The 2002</td>\n",
              "      <td>Action|Crime</td>\n",
              "    </tr>\n",
              "  </tbody>\n",
              "</table>\n",
              "</div>\n",
              "      <button class=\"colab-df-convert\" onclick=\"convertToInteractive('df-b127d29c-221a-465f-970a-ec1dab95e62c')\"\n",
              "              title=\"Convert this dataframe to an interactive table.\"\n",
              "              style=\"display:none;\">\n",
              "        \n",
              "  <svg xmlns=\"http://www.w3.org/2000/svg\" height=\"24px\"viewBox=\"0 0 24 24\"\n",
              "       width=\"24px\">\n",
              "    <path d=\"M0 0h24v24H0V0z\" fill=\"none\"/>\n",
              "    <path d=\"M18.56 5.44l.94 2.06.94-2.06 2.06-.94-2.06-.94-.94-2.06-.94 2.06-2.06.94zm-11 1L8.5 8.5l.94-2.06 2.06-.94-2.06-.94L8.5 2.5l-.94 2.06-2.06.94zm10 10l.94 2.06.94-2.06 2.06-.94-2.06-.94-.94-2.06-.94 2.06-2.06.94z\"/><path d=\"M17.41 7.96l-1.37-1.37c-.4-.4-.92-.59-1.43-.59-.52 0-1.04.2-1.43.59L10.3 9.45l-7.72 7.72c-.78.78-.78 2.05 0 2.83L4 21.41c.39.39.9.59 1.41.59.51 0 1.02-.2 1.41-.59l7.78-7.78 2.81-2.81c.8-.78.8-2.07 0-2.86zM5.41 20L4 18.59l7.72-7.72 1.47 1.35L5.41 20z\"/>\n",
              "  </svg>\n",
              "      </button>\n",
              "      \n",
              "  <style>\n",
              "    .colab-df-container {\n",
              "      display:flex;\n",
              "      flex-wrap:wrap;\n",
              "      gap: 12px;\n",
              "    }\n",
              "\n",
              "    .colab-df-convert {\n",
              "      background-color: #E8F0FE;\n",
              "      border: none;\n",
              "      border-radius: 50%;\n",
              "      cursor: pointer;\n",
              "      display: none;\n",
              "      fill: #1967D2;\n",
              "      height: 32px;\n",
              "      padding: 0 0 0 0;\n",
              "      width: 32px;\n",
              "    }\n",
              "\n",
              "    .colab-df-convert:hover {\n",
              "      background-color: #E2EBFA;\n",
              "      box-shadow: 0px 1px 2px rgba(60, 64, 67, 0.3), 0px 1px 3px 1px rgba(60, 64, 67, 0.15);\n",
              "      fill: #174EA6;\n",
              "    }\n",
              "\n",
              "    [theme=dark] .colab-df-convert {\n",
              "      background-color: #3B4455;\n",
              "      fill: #D2E3FC;\n",
              "    }\n",
              "\n",
              "    [theme=dark] .colab-df-convert:hover {\n",
              "      background-color: #434B5C;\n",
              "      box-shadow: 0px 1px 3px 1px rgba(0, 0, 0, 0.15);\n",
              "      filter: drop-shadow(0px 1px 2px rgba(0, 0, 0, 0.3));\n",
              "      fill: #FFFFFF;\n",
              "    }\n",
              "  </style>\n",
              "\n",
              "      <script>\n",
              "        const buttonEl =\n",
              "          document.querySelector('#df-b127d29c-221a-465f-970a-ec1dab95e62c button.colab-df-convert');\n",
              "        buttonEl.style.display =\n",
              "          google.colab.kernel.accessAllowed ? 'block' : 'none';\n",
              "\n",
              "        async function convertToInteractive(key) {\n",
              "          const element = document.querySelector('#df-b127d29c-221a-465f-970a-ec1dab95e62c');\n",
              "          const dataTable =\n",
              "            await google.colab.kernel.invokeFunction('convertToInteractive',\n",
              "                                                     [key], {});\n",
              "          if (!dataTable) return;\n",
              "\n",
              "          const docLinkHtml = 'Like what you see? Visit the ' +\n",
              "            '<a target=\"_blank\" href=https://colab.research.google.com/notebooks/data_table.ipynb>data table notebook</a>'\n",
              "            + ' to learn more about interactive tables.';\n",
              "          element.innerHTML = '';\n",
              "          dataTable['output_type'] = 'display_data';\n",
              "          await google.colab.output.renderOutput(dataTable, element);\n",
              "          const docLink = document.createElement('div');\n",
              "          docLink.innerHTML = docLinkHtml;\n",
              "          element.appendChild(docLink);\n",
              "        }\n",
              "      </script>\n",
              "    </div>\n",
              "  </div>\n",
              "  "
            ]
          },
          "metadata": {}
        }
      ]
    },
    {
      "cell_type": "code",
      "source": [],
      "metadata": {
        "colab": {
          "base_uri": "https://localhost:8080/",
          "height": 363
        },
        "id": "N5Ib_1DZaZp5",
        "outputId": "9ad42751-0aea-456d-e2b7-695a5070d34f"
      },
      "execution_count": 297,
      "outputs": [
        {
          "output_type": "execute_result",
          "data": {
            "text/plain": [
              "        similar       all       score  movieId  \\\n",
              "11933  0.302968  0.001912  158.486182     6534   \n",
              "12576  0.136131  0.003229   42.157324    60040   \n",
              "54098  0.106448  0.003952   26.932292    52722   \n",
              "41781  0.115660  0.004760   24.299781    60074   \n",
              "11211  0.161720  0.007227   22.377852     7373   \n",
              "24238  0.128966  0.006245   20.650733     6537   \n",
              "61915  0.145343  0.007227   20.111741    68319   \n",
              "44727  0.122825  0.006755   18.181971    41569   \n",
              "36298  0.117707  0.006587   17.868540     8371   \n",
              "28620  0.103378  0.005896   17.532425     5574   \n",
              "\n",
              "                                        title  \\\n",
              "11933                               Hulk 2003   \n",
              "12576                Incredible Hulk The 2008   \n",
              "54098                        SpiderMan 3 2007   \n",
              "41781                            Hancock 2008   \n",
              "11211                            Hellboy 2004   \n",
              "24238  Terminator 3 Rise of the Machines 2003   \n",
              "61915             XMen Origins Wolverine 2009   \n",
              "44727                          King Kong 2005   \n",
              "36298          Chronicles of Riddick The 2004   \n",
              "28620                    Transporter The 2002   \n",
              "\n",
              "                                        genres  \n",
              "11933                  Action|Adventure|Sci-Fi  \n",
              "12576                            Action|Sci-Fi  \n",
              "54098    Action|Adventure|Sci-Fi|Thriller|IMAX  \n",
              "41781    Action|Adventure|Comedy|Crime|Fantasy  \n",
              "11211          Action|Adventure|Fantasy|Horror  \n",
              "24238                  Action|Adventure|Sci-Fi  \n",
              "61915                   Action|Sci-Fi|Thriller  \n",
              "44727  Action|Adventure|Drama|Fantasy|Thriller  \n",
              "36298                   Action|Sci-Fi|Thriller  \n",
              "28620                             Action|Crime  "
            ],
            "text/html": [
              "\n",
              "  <div id=\"df-43e07d0e-e925-4ef4-b53d-0cd26687d6b2\">\n",
              "    <div class=\"colab-df-container\">\n",
              "      <div>\n",
              "<style scoped>\n",
              "    .dataframe tbody tr th:only-of-type {\n",
              "        vertical-align: middle;\n",
              "    }\n",
              "\n",
              "    .dataframe tbody tr th {\n",
              "        vertical-align: top;\n",
              "    }\n",
              "\n",
              "    .dataframe thead th {\n",
              "        text-align: right;\n",
              "    }\n",
              "</style>\n",
              "<table border=\"1\" class=\"dataframe\">\n",
              "  <thead>\n",
              "    <tr style=\"text-align: right;\">\n",
              "      <th></th>\n",
              "      <th>similar</th>\n",
              "      <th>all</th>\n",
              "      <th>score</th>\n",
              "      <th>movieId</th>\n",
              "      <th>title</th>\n",
              "      <th>genres</th>\n",
              "    </tr>\n",
              "  </thead>\n",
              "  <tbody>\n",
              "    <tr>\n",
              "      <th>11933</th>\n",
              "      <td>0.302968</td>\n",
              "      <td>0.001912</td>\n",
              "      <td>158.486182</td>\n",
              "      <td>6534</td>\n",
              "      <td>Hulk 2003</td>\n",
              "      <td>Action|Adventure|Sci-Fi</td>\n",
              "    </tr>\n",
              "    <tr>\n",
              "      <th>12576</th>\n",
              "      <td>0.136131</td>\n",
              "      <td>0.003229</td>\n",
              "      <td>42.157324</td>\n",
              "      <td>60040</td>\n",
              "      <td>Incredible Hulk The 2008</td>\n",
              "      <td>Action|Sci-Fi</td>\n",
              "    </tr>\n",
              "    <tr>\n",
              "      <th>54098</th>\n",
              "      <td>0.106448</td>\n",
              "      <td>0.003952</td>\n",
              "      <td>26.932292</td>\n",
              "      <td>52722</td>\n",
              "      <td>SpiderMan 3 2007</td>\n",
              "      <td>Action|Adventure|Sci-Fi|Thriller|IMAX</td>\n",
              "    </tr>\n",
              "    <tr>\n",
              "      <th>41781</th>\n",
              "      <td>0.115660</td>\n",
              "      <td>0.004760</td>\n",
              "      <td>24.299781</td>\n",
              "      <td>60074</td>\n",
              "      <td>Hancock 2008</td>\n",
              "      <td>Action|Adventure|Comedy|Crime|Fantasy</td>\n",
              "    </tr>\n",
              "    <tr>\n",
              "      <th>11211</th>\n",
              "      <td>0.161720</td>\n",
              "      <td>0.007227</td>\n",
              "      <td>22.377852</td>\n",
              "      <td>7373</td>\n",
              "      <td>Hellboy 2004</td>\n",
              "      <td>Action|Adventure|Fantasy|Horror</td>\n",
              "    </tr>\n",
              "    <tr>\n",
              "      <th>24238</th>\n",
              "      <td>0.128966</td>\n",
              "      <td>0.006245</td>\n",
              "      <td>20.650733</td>\n",
              "      <td>6537</td>\n",
              "      <td>Terminator 3 Rise of the Machines 2003</td>\n",
              "      <td>Action|Adventure|Sci-Fi</td>\n",
              "    </tr>\n",
              "    <tr>\n",
              "      <th>61915</th>\n",
              "      <td>0.145343</td>\n",
              "      <td>0.007227</td>\n",
              "      <td>20.111741</td>\n",
              "      <td>68319</td>\n",
              "      <td>XMen Origins Wolverine 2009</td>\n",
              "      <td>Action|Sci-Fi|Thriller</td>\n",
              "    </tr>\n",
              "    <tr>\n",
              "      <th>44727</th>\n",
              "      <td>0.122825</td>\n",
              "      <td>0.006755</td>\n",
              "      <td>18.181971</td>\n",
              "      <td>41569</td>\n",
              "      <td>King Kong 2005</td>\n",
              "      <td>Action|Adventure|Drama|Fantasy|Thriller</td>\n",
              "    </tr>\n",
              "    <tr>\n",
              "      <th>36298</th>\n",
              "      <td>0.117707</td>\n",
              "      <td>0.006587</td>\n",
              "      <td>17.868540</td>\n",
              "      <td>8371</td>\n",
              "      <td>Chronicles of Riddick The 2004</td>\n",
              "      <td>Action|Sci-Fi|Thriller</td>\n",
              "    </tr>\n",
              "    <tr>\n",
              "      <th>28620</th>\n",
              "      <td>0.103378</td>\n",
              "      <td>0.005896</td>\n",
              "      <td>17.532425</td>\n",
              "      <td>5574</td>\n",
              "      <td>Transporter The 2002</td>\n",
              "      <td>Action|Crime</td>\n",
              "    </tr>\n",
              "  </tbody>\n",
              "</table>\n",
              "</div>\n",
              "      <button class=\"colab-df-convert\" onclick=\"convertToInteractive('df-43e07d0e-e925-4ef4-b53d-0cd26687d6b2')\"\n",
              "              title=\"Convert this dataframe to an interactive table.\"\n",
              "              style=\"display:none;\">\n",
              "        \n",
              "  <svg xmlns=\"http://www.w3.org/2000/svg\" height=\"24px\"viewBox=\"0 0 24 24\"\n",
              "       width=\"24px\">\n",
              "    <path d=\"M0 0h24v24H0V0z\" fill=\"none\"/>\n",
              "    <path d=\"M18.56 5.44l.94 2.06.94-2.06 2.06-.94-2.06-.94-.94-2.06-.94 2.06-2.06.94zm-11 1L8.5 8.5l.94-2.06 2.06-.94-2.06-.94L8.5 2.5l-.94 2.06-2.06.94zm10 10l.94 2.06.94-2.06 2.06-.94-2.06-.94-.94-2.06-.94 2.06-2.06.94z\"/><path d=\"M17.41 7.96l-1.37-1.37c-.4-.4-.92-.59-1.43-.59-.52 0-1.04.2-1.43.59L10.3 9.45l-7.72 7.72c-.78.78-.78 2.05 0 2.83L4 21.41c.39.39.9.59 1.41.59.51 0 1.02-.2 1.41-.59l7.78-7.78 2.81-2.81c.8-.78.8-2.07 0-2.86zM5.41 20L4 18.59l7.72-7.72 1.47 1.35L5.41 20z\"/>\n",
              "  </svg>\n",
              "      </button>\n",
              "      \n",
              "  <style>\n",
              "    .colab-df-container {\n",
              "      display:flex;\n",
              "      flex-wrap:wrap;\n",
              "      gap: 12px;\n",
              "    }\n",
              "\n",
              "    .colab-df-convert {\n",
              "      background-color: #E8F0FE;\n",
              "      border: none;\n",
              "      border-radius: 50%;\n",
              "      cursor: pointer;\n",
              "      display: none;\n",
              "      fill: #1967D2;\n",
              "      height: 32px;\n",
              "      padding: 0 0 0 0;\n",
              "      width: 32px;\n",
              "    }\n",
              "\n",
              "    .colab-df-convert:hover {\n",
              "      background-color: #E2EBFA;\n",
              "      box-shadow: 0px 1px 2px rgba(60, 64, 67, 0.3), 0px 1px 3px 1px rgba(60, 64, 67, 0.15);\n",
              "      fill: #174EA6;\n",
              "    }\n",
              "\n",
              "    [theme=dark] .colab-df-convert {\n",
              "      background-color: #3B4455;\n",
              "      fill: #D2E3FC;\n",
              "    }\n",
              "\n",
              "    [theme=dark] .colab-df-convert:hover {\n",
              "      background-color: #434B5C;\n",
              "      box-shadow: 0px 1px 3px 1px rgba(0, 0, 0, 0.15);\n",
              "      filter: drop-shadow(0px 1px 2px rgba(0, 0, 0, 0.3));\n",
              "      fill: #FFFFFF;\n",
              "    }\n",
              "  </style>\n",
              "\n",
              "      <script>\n",
              "        const buttonEl =\n",
              "          document.querySelector('#df-43e07d0e-e925-4ef4-b53d-0cd26687d6b2 button.colab-df-convert');\n",
              "        buttonEl.style.display =\n",
              "          google.colab.kernel.accessAllowed ? 'block' : 'none';\n",
              "\n",
              "        async function convertToInteractive(key) {\n",
              "          const element = document.querySelector('#df-43e07d0e-e925-4ef4-b53d-0cd26687d6b2');\n",
              "          const dataTable =\n",
              "            await google.colab.kernel.invokeFunction('convertToInteractive',\n",
              "                                                     [key], {});\n",
              "          if (!dataTable) return;\n",
              "\n",
              "          const docLinkHtml = 'Like what you see? Visit the ' +\n",
              "            '<a target=\"_blank\" href=https://colab.research.google.com/notebooks/data_table.ipynb>data table notebook</a>'\n",
              "            + ' to learn more about interactive tables.';\n",
              "          element.innerHTML = '';\n",
              "          dataTable['output_type'] = 'display_data';\n",
              "          await google.colab.output.renderOutput(dataTable, element);\n",
              "          const docLink = document.createElement('div');\n",
              "          docLink.innerHTML = docLinkHtml;\n",
              "          element.appendChild(docLink);\n",
              "        }\n",
              "      </script>\n",
              "    </div>\n",
              "  </div>\n",
              "  "
            ]
          },
          "metadata": {},
          "execution_count": 297
        }
      ]
    }
  ],
  "metadata": {
    "colab": {
      "provenance": []
    },
    "kernelspec": {
      "display_name": "Python 3",
      "name": "python3"
    },
    "widgets": {
      "application/vnd.jupyter.widget-state+json": {
        "5bcd93892ca64c7f9da87632a7c28d8d": {
          "model_module": "@jupyter-widgets/controls",
          "model_name": "TextModel",
          "model_module_version": "1.5.0",
          "state": {
            "_dom_classes": [],
            "_model_module": "@jupyter-widgets/controls",
            "_model_module_version": "1.5.0",
            "_model_name": "TextModel",
            "_view_count": null,
            "_view_module": "@jupyter-widgets/controls",
            "_view_module_version": "1.5.0",
            "_view_name": "TextView",
            "continuous_update": true,
            "description": "Movie Title:",
            "description_tooltip": null,
            "disabled": false,
            "layout": "IPY_MODEL_1b3e2a397c494253a898fbe79b0382d3",
            "placeholder": "​",
            "style": "IPY_MODEL_f483b6d862df4734b251f174c3e928cb",
            "value": "The Hulk"
          }
        },
        "1b3e2a397c494253a898fbe79b0382d3": {
          "model_module": "@jupyter-widgets/base",
          "model_name": "LayoutModel",
          "model_module_version": "1.2.0",
          "state": {
            "_model_module": "@jupyter-widgets/base",
            "_model_module_version": "1.2.0",
            "_model_name": "LayoutModel",
            "_view_count": null,
            "_view_module": "@jupyter-widgets/base",
            "_view_module_version": "1.2.0",
            "_view_name": "LayoutView",
            "align_content": null,
            "align_items": null,
            "align_self": null,
            "border": null,
            "bottom": null,
            "display": null,
            "flex": null,
            "flex_flow": null,
            "grid_area": null,
            "grid_auto_columns": null,
            "grid_auto_flow": null,
            "grid_auto_rows": null,
            "grid_column": null,
            "grid_gap": null,
            "grid_row": null,
            "grid_template_areas": null,
            "grid_template_columns": null,
            "grid_template_rows": null,
            "height": null,
            "justify_content": null,
            "justify_items": null,
            "left": null,
            "margin": null,
            "max_height": null,
            "max_width": null,
            "min_height": null,
            "min_width": null,
            "object_fit": null,
            "object_position": null,
            "order": null,
            "overflow": null,
            "overflow_x": null,
            "overflow_y": null,
            "padding": null,
            "right": null,
            "top": null,
            "visibility": null,
            "width": null
          }
        },
        "f483b6d862df4734b251f174c3e928cb": {
          "model_module": "@jupyter-widgets/controls",
          "model_name": "DescriptionStyleModel",
          "model_module_version": "1.5.0",
          "state": {
            "_model_module": "@jupyter-widgets/controls",
            "_model_module_version": "1.5.0",
            "_model_name": "DescriptionStyleModel",
            "_view_count": null,
            "_view_module": "@jupyter-widgets/base",
            "_view_module_version": "1.2.0",
            "_view_name": "StyleView",
            "description_width": ""
          }
        },
        "cbbe5261b86c43819fcb760169ec6ef3": {
          "model_module": "@jupyter-widgets/output",
          "model_name": "OutputModel",
          "model_module_version": "1.0.0",
          "state": {
            "_dom_classes": [],
            "_model_module": "@jupyter-widgets/output",
            "_model_module_version": "1.0.0",
            "_model_name": "OutputModel",
            "_view_count": null,
            "_view_module": "@jupyter-widgets/output",
            "_view_module_version": "1.0.0",
            "_view_name": "OutputView",
            "layout": "IPY_MODEL_edd932d9310a403dbbca2b35928c5f9e",
            "msg_id": "",
            "outputs": [
              {
                "output_type": "display_data",
                "data": {
                  "text/plain": "       movieId                                              title  \\\n11933     6534                                          Hulk 2003   \n42871   183983                     Hulk Where Monsters Dwell 2016   \n12576    60040                           Incredible Hulk The 2008   \n12839   142056                  Iron Man  Hulk Heroes United 2013   \n48936   171251  Nobody Speak Hulk Hogan Gawker and Trials of a...   \n\n                                genres  \n11933          Action|Adventure|Sci-Fi  \n42871  Action|Animation|Fantasy|Sci-Fi  \n12576                    Action|Sci-Fi  \n12839       Action|Adventure|Animation  \n48936                      Documentary  ",
                  "text/html": "\n  <div id=\"df-8e3b9a15-0a98-4c1e-9ece-ce1352b925f8\">\n    <div class=\"colab-df-container\">\n      <div>\n<style scoped>\n    .dataframe tbody tr th:only-of-type {\n        vertical-align: middle;\n    }\n\n    .dataframe tbody tr th {\n        vertical-align: top;\n    }\n\n    .dataframe thead th {\n        text-align: right;\n    }\n</style>\n<table border=\"1\" class=\"dataframe\">\n  <thead>\n    <tr style=\"text-align: right;\">\n      <th></th>\n      <th>movieId</th>\n      <th>title</th>\n      <th>genres</th>\n    </tr>\n  </thead>\n  <tbody>\n    <tr>\n      <th>11933</th>\n      <td>6534</td>\n      <td>Hulk 2003</td>\n      <td>Action|Adventure|Sci-Fi</td>\n    </tr>\n    <tr>\n      <th>42871</th>\n      <td>183983</td>\n      <td>Hulk Where Monsters Dwell 2016</td>\n      <td>Action|Animation|Fantasy|Sci-Fi</td>\n    </tr>\n    <tr>\n      <th>12576</th>\n      <td>60040</td>\n      <td>Incredible Hulk The 2008</td>\n      <td>Action|Sci-Fi</td>\n    </tr>\n    <tr>\n      <th>12839</th>\n      <td>142056</td>\n      <td>Iron Man  Hulk Heroes United 2013</td>\n      <td>Action|Adventure|Animation</td>\n    </tr>\n    <tr>\n      <th>48936</th>\n      <td>171251</td>\n      <td>Nobody Speak Hulk Hogan Gawker and Trials of a...</td>\n      <td>Documentary</td>\n    </tr>\n  </tbody>\n</table>\n</div>\n      <button class=\"colab-df-convert\" onclick=\"convertToInteractive('df-8e3b9a15-0a98-4c1e-9ece-ce1352b925f8')\"\n              title=\"Convert this dataframe to an interactive table.\"\n              style=\"display:none;\">\n        \n  <svg xmlns=\"http://www.w3.org/2000/svg\" height=\"24px\"viewBox=\"0 0 24 24\"\n       width=\"24px\">\n    <path d=\"M0 0h24v24H0V0z\" fill=\"none\"/>\n    <path d=\"M18.56 5.44l.94 2.06.94-2.06 2.06-.94-2.06-.94-.94-2.06-.94 2.06-2.06.94zm-11 1L8.5 8.5l.94-2.06 2.06-.94-2.06-.94L8.5 2.5l-.94 2.06-2.06.94zm10 10l.94 2.06.94-2.06 2.06-.94-2.06-.94-.94-2.06-.94 2.06-2.06.94z\"/><path d=\"M17.41 7.96l-1.37-1.37c-.4-.4-.92-.59-1.43-.59-.52 0-1.04.2-1.43.59L10.3 9.45l-7.72 7.72c-.78.78-.78 2.05 0 2.83L4 21.41c.39.39.9.59 1.41.59.51 0 1.02-.2 1.41-.59l7.78-7.78 2.81-2.81c.8-.78.8-2.07 0-2.86zM5.41 20L4 18.59l7.72-7.72 1.47 1.35L5.41 20z\"/>\n  </svg>\n      </button>\n      \n  <style>\n    .colab-df-container {\n      display:flex;\n      flex-wrap:wrap;\n      gap: 12px;\n    }\n\n    .colab-df-convert {\n      background-color: #E8F0FE;\n      border: none;\n      border-radius: 50%;\n      cursor: pointer;\n      display: none;\n      fill: #1967D2;\n      height: 32px;\n      padding: 0 0 0 0;\n      width: 32px;\n    }\n\n    .colab-df-convert:hover {\n      background-color: #E2EBFA;\n      box-shadow: 0px 1px 2px rgba(60, 64, 67, 0.3), 0px 1px 3px 1px rgba(60, 64, 67, 0.15);\n      fill: #174EA6;\n    }\n\n    [theme=dark] .colab-df-convert {\n      background-color: #3B4455;\n      fill: #D2E3FC;\n    }\n\n    [theme=dark] .colab-df-convert:hover {\n      background-color: #434B5C;\n      box-shadow: 0px 1px 3px 1px rgba(0, 0, 0, 0.15);\n      filter: drop-shadow(0px 1px 2px rgba(0, 0, 0, 0.3));\n      fill: #FFFFFF;\n    }\n  </style>\n\n      <script>\n        const buttonEl =\n          document.querySelector('#df-8e3b9a15-0a98-4c1e-9ece-ce1352b925f8 button.colab-df-convert');\n        buttonEl.style.display =\n          google.colab.kernel.accessAllowed ? 'block' : 'none';\n\n        async function convertToInteractive(key) {\n          const element = document.querySelector('#df-8e3b9a15-0a98-4c1e-9ece-ce1352b925f8');\n          const dataTable =\n            await google.colab.kernel.invokeFunction('convertToInteractive',\n                                                     [key], {});\n          if (!dataTable) return;\n\n          const docLinkHtml = 'Like what you see? Visit the ' +\n            '<a target=\"_blank\" href=https://colab.research.google.com/notebooks/data_table.ipynb>data table notebook</a>'\n            + ' to learn more about interactive tables.';\n          element.innerHTML = '';\n          dataTable['output_type'] = 'display_data';\n          await google.colab.output.renderOutput(dataTable, element);\n          const docLink = document.createElement('div');\n          docLink.innerHTML = docLinkHtml;\n          element.appendChild(docLink);\n        }\n      </script>\n    </div>\n  </div>\n  "
                },
                "metadata": {}
              }
            ]
          }
        },
        "edd932d9310a403dbbca2b35928c5f9e": {
          "model_module": "@jupyter-widgets/base",
          "model_name": "LayoutModel",
          "model_module_version": "1.2.0",
          "state": {
            "_model_module": "@jupyter-widgets/base",
            "_model_module_version": "1.2.0",
            "_model_name": "LayoutModel",
            "_view_count": null,
            "_view_module": "@jupyter-widgets/base",
            "_view_module_version": "1.2.0",
            "_view_name": "LayoutView",
            "align_content": null,
            "align_items": null,
            "align_self": null,
            "border": null,
            "bottom": null,
            "display": null,
            "flex": null,
            "flex_flow": null,
            "grid_area": null,
            "grid_auto_columns": null,
            "grid_auto_flow": null,
            "grid_auto_rows": null,
            "grid_column": null,
            "grid_gap": null,
            "grid_row": null,
            "grid_template_areas": null,
            "grid_template_columns": null,
            "grid_template_rows": null,
            "height": null,
            "justify_content": null,
            "justify_items": null,
            "left": null,
            "margin": null,
            "max_height": null,
            "max_width": null,
            "min_height": null,
            "min_width": null,
            "object_fit": null,
            "object_position": null,
            "order": null,
            "overflow": null,
            "overflow_x": null,
            "overflow_y": null,
            "padding": null,
            "right": null,
            "top": null,
            "visibility": null,
            "width": null
          }
        },
        "3cbd3c45e7684a9ba35ef340df96f932": {
          "model_module": "@jupyter-widgets/controls",
          "model_name": "TextModel",
          "model_module_version": "1.5.0",
          "state": {
            "_dom_classes": [],
            "_model_module": "@jupyter-widgets/controls",
            "_model_module_version": "1.5.0",
            "_model_name": "TextModel",
            "_view_count": null,
            "_view_module": "@jupyter-widgets/controls",
            "_view_module_version": "1.5.0",
            "_view_name": "TextView",
            "continuous_update": true,
            "description": "",
            "description_tooltip": null,
            "disabled": false,
            "layout": "IPY_MODEL_741dd50bf0be4e48981cb3c47767fe27",
            "placeholder": "​",
            "style": "IPY_MODEL_8665d4779dd7411b80e558f79d13773e",
            "value": "The Avengers"
          }
        },
        "741dd50bf0be4e48981cb3c47767fe27": {
          "model_module": "@jupyter-widgets/base",
          "model_name": "LayoutModel",
          "model_module_version": "1.2.0",
          "state": {
            "_model_module": "@jupyter-widgets/base",
            "_model_module_version": "1.2.0",
            "_model_name": "LayoutModel",
            "_view_count": null,
            "_view_module": "@jupyter-widgets/base",
            "_view_module_version": "1.2.0",
            "_view_name": "LayoutView",
            "align_content": null,
            "align_items": null,
            "align_self": null,
            "border": null,
            "bottom": null,
            "display": null,
            "flex": null,
            "flex_flow": null,
            "grid_area": null,
            "grid_auto_columns": null,
            "grid_auto_flow": null,
            "grid_auto_rows": null,
            "grid_column": null,
            "grid_gap": null,
            "grid_row": null,
            "grid_template_areas": null,
            "grid_template_columns": null,
            "grid_template_rows": null,
            "height": null,
            "justify_content": null,
            "justify_items": null,
            "left": null,
            "margin": null,
            "max_height": null,
            "max_width": null,
            "min_height": null,
            "min_width": null,
            "object_fit": null,
            "object_position": null,
            "order": null,
            "overflow": null,
            "overflow_x": null,
            "overflow_y": null,
            "padding": null,
            "right": null,
            "top": null,
            "visibility": null,
            "width": null
          }
        },
        "8665d4779dd7411b80e558f79d13773e": {
          "model_module": "@jupyter-widgets/controls",
          "model_name": "DescriptionStyleModel",
          "model_module_version": "1.5.0",
          "state": {
            "_model_module": "@jupyter-widgets/controls",
            "_model_module_version": "1.5.0",
            "_model_name": "DescriptionStyleModel",
            "_view_count": null,
            "_view_module": "@jupyter-widgets/base",
            "_view_module_version": "1.2.0",
            "_view_name": "StyleView",
            "description_width": ""
          }
        },
        "7046082f59884788bc4b5137304b84a7": {
          "model_module": "@jupyter-widgets/output",
          "model_name": "OutputModel",
          "model_module_version": "1.0.0",
          "state": {
            "_dom_classes": [],
            "_model_module": "@jupyter-widgets/output",
            "_model_module_version": "1.0.0",
            "_model_name": "OutputModel",
            "_view_count": null,
            "_view_module": "@jupyter-widgets/output",
            "_view_module_version": "1.0.0",
            "_view_name": "OutputView",
            "layout": "IPY_MODEL_c46f75537848454a8f989d32f6b2827d",
            "msg_id": "",
            "outputs": []
          }
        },
        "c46f75537848454a8f989d32f6b2827d": {
          "model_module": "@jupyter-widgets/base",
          "model_name": "LayoutModel",
          "model_module_version": "1.2.0",
          "state": {
            "_model_module": "@jupyter-widgets/base",
            "_model_module_version": "1.2.0",
            "_model_name": "LayoutModel",
            "_view_count": null,
            "_view_module": "@jupyter-widgets/base",
            "_view_module_version": "1.2.0",
            "_view_name": "LayoutView",
            "align_content": null,
            "align_items": null,
            "align_self": null,
            "border": null,
            "bottom": null,
            "display": null,
            "flex": null,
            "flex_flow": null,
            "grid_area": null,
            "grid_auto_columns": null,
            "grid_auto_flow": null,
            "grid_auto_rows": null,
            "grid_column": null,
            "grid_gap": null,
            "grid_row": null,
            "grid_template_areas": null,
            "grid_template_columns": null,
            "grid_template_rows": null,
            "height": null,
            "justify_content": null,
            "justify_items": null,
            "left": null,
            "margin": null,
            "max_height": null,
            "max_width": null,
            "min_height": null,
            "min_width": null,
            "object_fit": null,
            "object_position": null,
            "order": null,
            "overflow": null,
            "overflow_x": null,
            "overflow_y": null,
            "padding": null,
            "right": null,
            "top": null,
            "visibility": null,
            "width": null
          }
        }
      }
    }
  },
  "nbformat": 4,
  "nbformat_minor": 0
}